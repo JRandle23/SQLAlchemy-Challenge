{
 "cells": [
  {
   "cell_type": "markdown",
   "metadata": {},
   "source": [
    "# Bonus: Temperature Analysis I"
   ]
  },
  {
   "cell_type": "code",
   "execution_count": 20,
   "metadata": {},
   "outputs": [],
   "source": [
    "import pandas as pd\n",
    "from datetime import datetime as dt"
   ]
  },
  {
   "cell_type": "code",
   "execution_count": 21,
   "metadata": {},
   "outputs": [
    {
     "output_type": "execute_result",
     "data": {
      "text/plain": [
       "       station        date  prcp  tobs\n",
       "0  USC00519397  2010-01-01  0.08    65\n",
       "1  USC00519397  2010-01-02  0.00    63\n",
       "2  USC00519397  2010-01-03  0.00    74\n",
       "3  USC00519397  2010-01-04  0.00    76\n",
       "4  USC00519397  2010-01-06   NaN    73"
      ],
      "text/html": "<div>\n<style scoped>\n    .dataframe tbody tr th:only-of-type {\n        vertical-align: middle;\n    }\n\n    .dataframe tbody tr th {\n        vertical-align: top;\n    }\n\n    .dataframe thead th {\n        text-align: right;\n    }\n</style>\n<table border=\"1\" class=\"dataframe\">\n  <thead>\n    <tr style=\"text-align: right;\">\n      <th></th>\n      <th>station</th>\n      <th>date</th>\n      <th>prcp</th>\n      <th>tobs</th>\n    </tr>\n  </thead>\n  <tbody>\n    <tr>\n      <th>0</th>\n      <td>USC00519397</td>\n      <td>2010-01-01</td>\n      <td>0.08</td>\n      <td>65</td>\n    </tr>\n    <tr>\n      <th>1</th>\n      <td>USC00519397</td>\n      <td>2010-01-02</td>\n      <td>0.00</td>\n      <td>63</td>\n    </tr>\n    <tr>\n      <th>2</th>\n      <td>USC00519397</td>\n      <td>2010-01-03</td>\n      <td>0.00</td>\n      <td>74</td>\n    </tr>\n    <tr>\n      <th>3</th>\n      <td>USC00519397</td>\n      <td>2010-01-04</td>\n      <td>0.00</td>\n      <td>76</td>\n    </tr>\n    <tr>\n      <th>4</th>\n      <td>USC00519397</td>\n      <td>2010-01-06</td>\n      <td>NaN</td>\n      <td>73</td>\n    </tr>\n  </tbody>\n</table>\n</div>"
     },
     "metadata": {},
     "execution_count": 21
    }
   ],
   "source": [
    "# \"tobs\" is \"temperature observations\"\n",
    "hawaii_data_df = pd.read_csv('Resources/hawaii_measurements.csv')\n",
    "hawaii_data_df.head()"
   ]
  },
  {
   "cell_type": "code",
   "execution_count": 22,
   "metadata": {},
   "outputs": [
    {
     "output_type": "execute_result",
     "data": {
      "text/plain": [
       "           station       date  prcp  tobs\n",
       "0      USC00519397 2010-01-01  0.08    65\n",
       "1      USC00519397 2010-01-02  0.00    63\n",
       "2      USC00519397 2010-01-03  0.00    74\n",
       "3      USC00519397 2010-01-04  0.00    76\n",
       "4      USC00519397 2010-01-06   NaN    73\n",
       "...            ...        ...   ...   ...\n",
       "19545  USC00516128 2017-08-19  0.09    71\n",
       "19546  USC00516128 2017-08-20   NaN    78\n",
       "19547  USC00516128 2017-08-21  0.56    76\n",
       "19548  USC00516128 2017-08-22  0.50    76\n",
       "19549  USC00516128 2017-08-23  0.45    76\n",
       "\n",
       "[19550 rows x 4 columns]"
      ],
      "text/html": "<div>\n<style scoped>\n    .dataframe tbody tr th:only-of-type {\n        vertical-align: middle;\n    }\n\n    .dataframe tbody tr th {\n        vertical-align: top;\n    }\n\n    .dataframe thead th {\n        text-align: right;\n    }\n</style>\n<table border=\"1\" class=\"dataframe\">\n  <thead>\n    <tr style=\"text-align: right;\">\n      <th></th>\n      <th>station</th>\n      <th>date</th>\n      <th>prcp</th>\n      <th>tobs</th>\n    </tr>\n  </thead>\n  <tbody>\n    <tr>\n      <th>0</th>\n      <td>USC00519397</td>\n      <td>2010-01-01</td>\n      <td>0.08</td>\n      <td>65</td>\n    </tr>\n    <tr>\n      <th>1</th>\n      <td>USC00519397</td>\n      <td>2010-01-02</td>\n      <td>0.00</td>\n      <td>63</td>\n    </tr>\n    <tr>\n      <th>2</th>\n      <td>USC00519397</td>\n      <td>2010-01-03</td>\n      <td>0.00</td>\n      <td>74</td>\n    </tr>\n    <tr>\n      <th>3</th>\n      <td>USC00519397</td>\n      <td>2010-01-04</td>\n      <td>0.00</td>\n      <td>76</td>\n    </tr>\n    <tr>\n      <th>4</th>\n      <td>USC00519397</td>\n      <td>2010-01-06</td>\n      <td>NaN</td>\n      <td>73</td>\n    </tr>\n    <tr>\n      <th>...</th>\n      <td>...</td>\n      <td>...</td>\n      <td>...</td>\n      <td>...</td>\n    </tr>\n    <tr>\n      <th>19545</th>\n      <td>USC00516128</td>\n      <td>2017-08-19</td>\n      <td>0.09</td>\n      <td>71</td>\n    </tr>\n    <tr>\n      <th>19546</th>\n      <td>USC00516128</td>\n      <td>2017-08-20</td>\n      <td>NaN</td>\n      <td>78</td>\n    </tr>\n    <tr>\n      <th>19547</th>\n      <td>USC00516128</td>\n      <td>2017-08-21</td>\n      <td>0.56</td>\n      <td>76</td>\n    </tr>\n    <tr>\n      <th>19548</th>\n      <td>USC00516128</td>\n      <td>2017-08-22</td>\n      <td>0.50</td>\n      <td>76</td>\n    </tr>\n    <tr>\n      <th>19549</th>\n      <td>USC00516128</td>\n      <td>2017-08-23</td>\n      <td>0.45</td>\n      <td>76</td>\n    </tr>\n  </tbody>\n</table>\n<p>19550 rows × 4 columns</p>\n</div>"
     },
     "metadata": {},
     "execution_count": 22
    }
   ],
   "source": [
    "# Convert the date column format from string to datetime\n",
    "hawaii_data_df['date']= pd.to_datetime(hawaii_data_df[], infer_datetime_format=True)\n",
    "hawaii_data_df"
   ]
  },
  {
   "cell_type": "code",
   "execution_count": 23,
   "metadata": {},
   "outputs": [
    {
     "output_type": "execute_result",
     "data": {
      "text/plain": [
       "                station       date  prcp  tobs\n",
       "date                                          \n",
       "2010-01-01  USC00519397 2010-01-01  0.08    65\n",
       "2010-01-02  USC00519397 2010-01-02  0.00    63\n",
       "2010-01-03  USC00519397 2010-01-03  0.00    74\n",
       "2010-01-04  USC00519397 2010-01-04  0.00    76\n",
       "2010-01-06  USC00519397 2010-01-06   NaN    73"
      ],
      "text/html": "<div>\n<style scoped>\n    .dataframe tbody tr th:only-of-type {\n        vertical-align: middle;\n    }\n\n    .dataframe tbody tr th {\n        vertical-align: top;\n    }\n\n    .dataframe thead th {\n        text-align: right;\n    }\n</style>\n<table border=\"1\" class=\"dataframe\">\n  <thead>\n    <tr style=\"text-align: right;\">\n      <th></th>\n      <th>station</th>\n      <th>date</th>\n      <th>prcp</th>\n      <th>tobs</th>\n    </tr>\n    <tr>\n      <th>date</th>\n      <th></th>\n      <th></th>\n      <th></th>\n      <th></th>\n    </tr>\n  </thead>\n  <tbody>\n    <tr>\n      <th>2010-01-01</th>\n      <td>USC00519397</td>\n      <td>2010-01-01</td>\n      <td>0.08</td>\n      <td>65</td>\n    </tr>\n    <tr>\n      <th>2010-01-02</th>\n      <td>USC00519397</td>\n      <td>2010-01-02</td>\n      <td>0.00</td>\n      <td>63</td>\n    </tr>\n    <tr>\n      <th>2010-01-03</th>\n      <td>USC00519397</td>\n      <td>2010-01-03</td>\n      <td>0.00</td>\n      <td>74</td>\n    </tr>\n    <tr>\n      <th>2010-01-04</th>\n      <td>USC00519397</td>\n      <td>2010-01-04</td>\n      <td>0.00</td>\n      <td>76</td>\n    </tr>\n    <tr>\n      <th>2010-01-06</th>\n      <td>USC00519397</td>\n      <td>2010-01-06</td>\n      <td>NaN</td>\n      <td>73</td>\n    </tr>\n  </tbody>\n</table>\n</div>"
     },
     "metadata": {},
     "execution_count": 23
    }
   ],
   "source": [
    "# Set the date column as the DataFrame index\n",
    "hawaii_data_df = hawaii_data_df.set_index(hawaii_data_df['date'])\n",
    "hawaii_data_df.head()"
   ]
  },
  {
   "cell_type": "code",
   "execution_count": 25,
   "metadata": {},
   "outputs": [
    {
     "output_type": "execute_result",
     "data": {
      "text/plain": [
       "                station  prcp  tobs\n",
       "date                               \n",
       "2010-01-01  USC00519397  0.08    65\n",
       "2010-01-02  USC00519397  0.00    63\n",
       "2010-01-03  USC00519397  0.00    74\n",
       "2010-01-04  USC00519397  0.00    76\n",
       "2010-01-06  USC00519397   NaN    73"
      ],
      "text/html": "<div>\n<style scoped>\n    .dataframe tbody tr th:only-of-type {\n        vertical-align: middle;\n    }\n\n    .dataframe tbody tr th {\n        vertical-align: top;\n    }\n\n    .dataframe thead th {\n        text-align: right;\n    }\n</style>\n<table border=\"1\" class=\"dataframe\">\n  <thead>\n    <tr style=\"text-align: right;\">\n      <th></th>\n      <th>station</th>\n      <th>prcp</th>\n      <th>tobs</th>\n    </tr>\n    <tr>\n      <th>date</th>\n      <th></th>\n      <th></th>\n      <th></th>\n    </tr>\n  </thead>\n  <tbody>\n    <tr>\n      <th>2010-01-01</th>\n      <td>USC00519397</td>\n      <td>0.08</td>\n      <td>65</td>\n    </tr>\n    <tr>\n      <th>2010-01-02</th>\n      <td>USC00519397</td>\n      <td>0.00</td>\n      <td>63</td>\n    </tr>\n    <tr>\n      <th>2010-01-03</th>\n      <td>USC00519397</td>\n      <td>0.00</td>\n      <td>74</td>\n    </tr>\n    <tr>\n      <th>2010-01-04</th>\n      <td>USC00519397</td>\n      <td>0.00</td>\n      <td>76</td>\n    </tr>\n    <tr>\n      <th>2010-01-06</th>\n      <td>USC00519397</td>\n      <td>NaN</td>\n      <td>73</td>\n    </tr>\n  </tbody>\n</table>\n</div>"
     },
     "metadata": {},
     "execution_count": 25
    }
   ],
   "source": [
    "# Drop the date column\n",
    "hawaii_data_df = hawaii_data_df.drop(columns='date')\n",
    "hawaii_data_df.head()"
   ]
  },
  {
   "cell_type": "markdown",
   "metadata": {},
   "source": [
    "### Compare June and December data across all years "
   ]
  },
  {
   "cell_type": "code",
   "execution_count": 26,
   "metadata": {},
   "outputs": [],
   "source": [
    "from scipy import stats"
   ]
  },
  {
   "cell_type": "code",
   "execution_count": 40,
   "metadata": {},
   "outputs": [
    {
     "output_type": "execute_result",
     "data": {
      "text/plain": [
       "                station  prcp  tobs\n",
       "date                               \n",
       "2010-12-01  USC00519397  0.04    76\n",
       "2010-12-03  USC00519397  0.00    74\n",
       "2010-12-04  USC00519397  0.00    74\n",
       "2010-12-06  USC00519397  0.00    64\n",
       "2010-12-07  USC00519397  0.00    64"
      ],
      "text/html": "<div>\n<style scoped>\n    .dataframe tbody tr th:only-of-type {\n        vertical-align: middle;\n    }\n\n    .dataframe tbody tr th {\n        vertical-align: top;\n    }\n\n    .dataframe thead th {\n        text-align: right;\n    }\n</style>\n<table border=\"1\" class=\"dataframe\">\n  <thead>\n    <tr style=\"text-align: right;\">\n      <th></th>\n      <th>station</th>\n      <th>prcp</th>\n      <th>tobs</th>\n    </tr>\n    <tr>\n      <th>date</th>\n      <th></th>\n      <th></th>\n      <th></th>\n    </tr>\n  </thead>\n  <tbody>\n    <tr>\n      <th>2010-12-01</th>\n      <td>USC00519397</td>\n      <td>0.04</td>\n      <td>76</td>\n    </tr>\n    <tr>\n      <th>2010-12-03</th>\n      <td>USC00519397</td>\n      <td>0.00</td>\n      <td>74</td>\n    </tr>\n    <tr>\n      <th>2010-12-04</th>\n      <td>USC00519397</td>\n      <td>0.00</td>\n      <td>74</td>\n    </tr>\n    <tr>\n      <th>2010-12-06</th>\n      <td>USC00519397</td>\n      <td>0.00</td>\n      <td>64</td>\n    </tr>\n    <tr>\n      <th>2010-12-07</th>\n      <td>USC00519397</td>\n      <td>0.00</td>\n      <td>64</td>\n    </tr>\n  </tbody>\n</table>\n</div>"
     },
     "metadata": {},
     "execution_count": 40
    }
   ],
   "source": [
    "# Filter data for desired months\n",
    "june_data = hawaii_data_df[hawaii_data_df.index.month == 6]\n",
    "\n",
    "dec_data =  hawaii_data_df[hawaii_data_df.index.month == 12]"
   ]
  },
  {
   "cell_type": "code",
   "execution_count": 47,
   "metadata": {},
   "outputs": [
    {
     "output_type": "stream",
     "name": "stdout",
     "text": [
      "Average temperature in June accross all stations: 74.94411764705882\n"
     ]
    }
   ],
   "source": [
    "# Identify the average temperature for June\n",
    "june_temp_avg = june_data[\"tobs\"].mean()\n",
    "print(f'Average temperature in June accross all stations: {june_temp_avg}')"
   ]
  },
  {
   "cell_type": "code",
   "execution_count": 43,
   "metadata": {},
   "outputs": [
    {
     "output_type": "stream",
     "name": "stdout",
     "text": [
      "Average temperature in December accross all stations: 71.04152933421226\n"
     ]
    }
   ],
   "source": [
    "# Identify the average temperature for December\n",
    "dec_temp_avg = dec_data[\"tobs\"].mean()\n",
    "print(f'Average temperature in December accross all stations: {dec_temp_avg}')"
   ]
  },
  {
   "cell_type": "code",
   "execution_count": 50,
   "metadata": {},
   "outputs": [
    {
     "output_type": "execute_result",
     "data": {
      "text/plain": [
       "date\n",
       "2010-06-01    78\n",
       "2010-06-02    76\n",
       "2010-06-03    78\n",
       "2010-06-04    76\n",
       "2010-06-05    77\n",
       "              ..\n",
       "2017-06-26    79\n",
       "2017-06-27    74\n",
       "2017-06-28    74\n",
       "2017-06-29    76\n",
       "2017-06-30    75\n",
       "Name: tobs, Length: 1700, dtype: int64"
      ]
     },
     "metadata": {},
     "execution_count": 50
    }
   ],
   "source": [
    "# Create collections of temperature data\n",
    "june_temp = june_data[\"tobs\"]\n",
    "june_temp"
   ]
  },
  {
   "cell_type": "code",
   "execution_count": 51,
   "metadata": {},
   "outputs": [
    {
     "output_type": "execute_result",
     "data": {
      "text/plain": [
       "date\n",
       "2010-12-01    76\n",
       "2010-12-03    74\n",
       "2010-12-04    74\n",
       "2010-12-06    64\n",
       "2010-12-07    64\n",
       "              ..\n",
       "2016-12-27    71\n",
       "2016-12-28    71\n",
       "2016-12-29    69\n",
       "2016-12-30    65\n",
       "2016-12-31    65\n",
       "Name: tobs, Length: 1517, dtype: int64"
      ]
     },
     "metadata": {},
     "execution_count": 51
    }
   ],
   "source": [
    "dec_temp = dec_data[\"tobs\"]\n",
    "dec_temp"
   ]
  },
  {
   "cell_type": "code",
   "execution_count": 53,
   "metadata": {},
   "outputs": [
    {
     "output_type": "execute_result",
     "data": {
      "text/plain": [
       "Ttest_indResult(statistic=31.60372399000329, pvalue=3.9025129038616655e-191)"
      ]
     },
     "metadata": {},
     "execution_count": 53
    }
   ],
   "source": [
    "# Run paired t-test\n",
    "stats.ttest_ind(june_temp, dec_temp)"
   ]
  },
  {
   "cell_type": "markdown",
   "metadata": {},
   "source": [
    "### Analysis"
   ]
  }
 ],
 "metadata": {
  "kernelspec": {
   "display_name": "Python 3",
   "language": "python",
   "name": "python3"
  },
  "language_info": {
   "codemirror_mode": {
    "name": "ipython",
    "version": 3
   },
   "file_extension": ".py",
   "mimetype": "text/x-python",
   "name": "python",
   "nbconvert_exporter": "python",
   "pygments_lexer": "ipython3",
   "version": "3.8.3-final"
  }
 },
 "nbformat": 4,
 "nbformat_minor": 4
}